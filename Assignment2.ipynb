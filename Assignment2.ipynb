{
 "cells": [
  {
   "cell_type": "code",
   "execution_count": 1,
   "metadata": {},
   "outputs": [
    {
     "name": "stdout",
     "output_type": "stream",
     "text": [
      "['artificial intelligence machine learning artificial intelligence computer vision computer vision computer vision computer vision machine learning artificial intelligence artificial intelligence artificial intelligence artificial intelligence computer vision artificial intelligence computer vision computer vision artificial intelligence machine learning machine learning machine learning artificial intelligence computer vision computer vision computer vision artificial intelligence computer vision machine learning machine learning computer vision artificial intelligence computer vision machine learning machine learning machine learning machine learning artificial intelligence computer vision machine learning computer vision computer vision artificial intelligence computer vision machine learning machine learning artificial intelligence computer vision computer vision machine learning artificial intelligence machine learning artificial intelligence computer vision artificial intelligence computer vision artificial intelligence artificial intelligence computer vision computer vision machine learning computer vision artificial intelligence computer vision computer vision', 'artificial intelligence computer vision computer vision machine learning artificial intelligence artificial intelligence artificial intelligence machine learning machine learning artificial intelligence machine learning artificial intelligence computer vision computer vision computer vision machine learning computer vision artificial intelligence artificial intelligence artificial intelligence computer vision computer vision artificial intelligence machine learning machine learning artificial intelligence machine learning artificial intelligence computer vision computer vision artificial intelligence computer vision machine learning machine learning machine learning artificial intelligence machine learning machine learning artificial intelligence computer vision computer vision computer vision computer vision machine learning machine learning machine learning computer vision machine learning computer vision computer vision artificial intelligence machine learning artificial intelligence artificial intelligence machine learning computer vision', 'artificial intelligence artificial intelligence machine learning computer vision artificial intelligence artificial intelligence computer vision artificial intelligence computer vision machine learning computer vision machine learning computer vision computer vision computer vision artificial intelligence machine learning machine learning machine learning machine learning machine learning computer vision machine learning machine learning computer vision artificial intelligence computer vision machine learning computer vision artificial intelligence machine learning computer vision computer vision machine learning artificial intelligence computer vision machine learning machine learning machine learning computer vision artificial intelligence artificial intelligence artificial intelligence computer vision machine learning computer vision machine learning artificial intelligence computer vision computer vision machine learning artificial intelligence machine learning computer vision computer vision computer vision']\n",
      "[{'artificial': 0.3827795011754764, 'computer': 0.49761335152811925, 'intelligence': 0.3827795011754764, 'learning': 0.3253625759991549, 'machine': 0.3253625759991549, 'vision': 0.49761335152811925}, {'artificial': 0.3935425225019634, 'computer': 0.41540599597429473, 'intelligence': 0.3935425225019634, 'learning': 0.41540599597429473, 'machine': 0.41540599597429473, 'vision': 0.41540599597429473}, {'artificial': 0.30123203803835463, 'computer': 0.47336463120312877, 'intelligence': 0.30123203803835463, 'learning': 0.43033148291193524, 'machine': 0.43033148291193524, 'vision': 0.47336463120312877}]\n"
     ]
    }
   ],
   "source": [
    "from sklearn.feature_extraction.text import TfidfVectorizer\n",
    "import numpy as np\n",
    "from sklearn.feature_extraction.text import TfidfVectorizer\n",
    "from nltk.tokenize import word_tokenize\n",
    "from nltk.stem import WordNetLemmatizer\n",
    "from nltk.corpus import stopwords\n",
    "import re\n",
    "# Function to generate documents\n",
    "def generate_documents(phrases, num_docs):\n",
    "    documents = []\n",
    "    for _ in range(num_docs):\n",
    "        doc = \" \".join(np.random.choice(phrases, np.random.randint(5, 100)))\n",
    "        documents.append(doc)\n",
    "    return documents\n",
    "\n",
    "# Sample phrases\n",
    "phrases = [\"machine learning\",\"computer vision\",\"artificial intelligence\"]\n",
    "\n",
    "# Generate documents\n",
    "documents = generate_documents(phrases, 3)\n",
    "print(documents)\n",
    "# Step 1: Initialize TfidfVectorizer\n",
    "tfidf_vectorizer = TfidfVectorizer(lowercase=True, stop_words='english')\n",
    "\n",
    "# Step 2: Fit and transform documents\n",
    "tfidf_matrix = tfidf_vectorizer.fit_transform(documents)\n",
    "\n",
    "# Step 3: Get feature names\n",
    "feature_names = tfidf_vectorizer.get_feature_names_out()\n",
    "\n",
    "# Step 4: Convert TFIDF matrix to a list of dictionaries\n",
    "tfidf_documents_sklearn = []\n",
    "for i in range(len(documents)):\n",
    "    doc_vector = tfidf_matrix[i].toarray().flatten()\n",
    "    tfidf_doc = {feature_names[j]: doc_vector[j] for j in range(len(feature_names))}\n",
    "    tfidf_documents_sklearn.append(tfidf_doc)\n",
    "\n",
    "print(tfidf_documents_sklearn)"
   ]
  }
 ],
 "metadata": {
  "kernelspec": {
   "display_name": "Python 3",
   "language": "python",
   "name": "python3"
  },
  "language_info": {
   "codemirror_mode": {
    "name": "ipython",
    "version": 3
   },
   "file_extension": ".py",
   "mimetype": "text/x-python",
   "name": "python",
   "nbconvert_exporter": "python",
   "pygments_lexer": "ipython3",
   "version": "3.11.8"
  }
 },
 "nbformat": 4,
 "nbformat_minor": 2
}
